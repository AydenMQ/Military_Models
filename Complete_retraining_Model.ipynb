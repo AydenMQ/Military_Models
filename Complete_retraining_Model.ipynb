{
 "cells": [
  {
   "cell_type": "code",
   "execution_count": 4,
   "id": "3c61eb1a-c0e5-41d9-831d-24351c744bc4",
   "metadata": {},
   "outputs": [
    {
     "name": "stdout",
     "output_type": "stream",
     "text": [
      "Predicted Lift-to-Place value(s): [53.82146118]\n"
     ]
    }
   ],
   "source": [
    "# predict_complete_retrained_model.ipynb\n",
    "\n",
    "#### Install required libraries if not present\n",
    "import subprocess\n",
    "import sys\n",
    "\n",
    "def install(package):\n",
    "    subprocess.check_call([sys.executable, \"-m\", \"pip\", \"install\", package])\n",
    "\n",
    "#### Try to import pandas\n",
    "try:\n",
    "    import pandas as pd\n",
    "except ImportError:\n",
    "    install(\"pandas\")\n",
    "    import pandas as pd\n",
    "\n",
    "#### Try to import joblib\n",
    "try:\n",
    "    import joblib\n",
    "except ImportError:\n",
    "    install(\"joblib\")\n",
    "    import joblib\n",
    "\n",
    "#### Try to import numpy (optional, but good for viewing predictions cleanly)\n",
    "try:\n",
    "    import numpy as np\n",
    "except ImportError:\n",
    "    install(\"numpy\")\n",
    "    import numpy as np\n",
    "\n",
    "#### Load saved model and predict on new data\n",
    "def load_pipeline_and_predict(new_data_csv):\n",
    "    \"\"\"\n",
    "    Load the saved SVR model and scaler, then predict on new dataset.\n",
    "    new_data_csv: str, path to CSV with input features (same columns as training).\n",
    "    \"\"\"\n",
    "    # Load model and scaler\n",
    "    model, scaler = joblib.load('svr_complete_retrained_model.joblib')\n",
    "\n",
    "    # Load and scale new data\n",
    "    new_data = pd.read_csv(new_data_csv)\n",
    "    new_data_scaled = scaler.transform(new_data)\n",
    "\n",
    "    # Predict and return\n",
    "    predictions = model.predict(new_data_scaled)\n",
    "    return predictions\n",
    "\n",
    "#### Example usage\n",
    "if __name__ == '__main__':\n",
    "    try:\n",
    "        predictions = load_pipeline_and_predict('new_data.csv')\n",
    "        print(\"Predicted Lift-to-Place value(s):\", predictions)\n",
    "    except FileNotFoundError as e:\n",
    "        print(\"❌ Error:\", e)\n",
    "        print(\"Ensure 'svr_complete_retrained_model.joblib' and 'new_data.csv' are in the same directory.\")\n"
   ]
  },
  {
   "cell_type": "code",
   "execution_count": null,
   "id": "d5702c22-6d55-4b05-8e8f-c97f71b3aca1",
   "metadata": {},
   "outputs": [],
   "source": []
  }
 ],
 "metadata": {
  "kernelspec": {
   "display_name": "Python [conda env:micromamba-cuda]",
   "language": "python",
   "name": "conda-env-micromamba-cuda-py"
  },
  "language_info": {
   "codemirror_mode": {
    "name": "ipython",
    "version": 3
   },
   "file_extension": ".py",
   "mimetype": "text/x-python",
   "name": "python",
   "nbconvert_exporter": "python",
   "pygments_lexer": "ipython3",
   "version": "3.12.9"
  }
 },
 "nbformat": 4,
 "nbformat_minor": 5
}
